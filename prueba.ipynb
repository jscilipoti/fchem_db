{
 "cells": [
  {
   "cell_type": "code",
   "execution_count": 1,
   "metadata": {},
   "outputs": [],
   "source": [
    "import xml.etree.ElementTree as ET\n",
    "\n",
    "from constants import DICCIONARIO"
   ]
  },
  {
   "cell_type": "code",
   "execution_count": 12,
   "metadata": {},
   "outputs": [],
   "source": [
    "class Reader:\n",
    "    def __init__(self, c_index) -> None:\n",
    "        root = ET.parse(\"lecture/ChemSep8.32.xml\")\n",
    "        comp = root.getroot()\n",
    "\n",
    "        self.c_index = c_index\n",
    "        self.compound = comp[self.c_index]\n",
    "\n",
    "        self.dict = {}\n",
    "        for property in self.compound:\n",
    "            self.dict.update({property.tag : property})\n",
    "\n",
    "    def __getitem__(self, key: str):\n",
    "        # index = DICCIONARIO[key]\n",
    "        # return self.compound[index]\n",
    "        return Propiedad(self.dict[key])\n",
    "    \n",
    "class Propiedad:\n",
    "    def __init__(self, compound_property) -> None:\n",
    "        self.compound_property = compound_property\n",
    "        self.attrib = self.compound_property.attrib.get(\"value\")\n",
    "        self.dict = {}\n",
    "\n",
    "        for property in self.compound_property:\n",
    "            self.dict.update({property.tag: property.attrib})\n",
    "\n",
    "    def __getitem__(self, key:str):\n",
    "        return self.dict.get(key)[\"value\"]\n",
    "    \n"
   ]
  },
  {
   "cell_type": "code",
   "execution_count": 13,
   "metadata": {},
   "outputs": [],
   "source": [
    "substance = Reader(0)"
   ]
  },
  {
   "cell_type": "code",
   "execution_count": 18,
   "metadata": {},
   "outputs": [
    {
     "data": {
      "text/plain": [
       "'2.6731'"
      ]
     },
     "execution_count": 18,
     "metadata": {},
     "output_type": "execute_result"
    }
   ],
   "source": [
    "substance[\"LiquidDensity\"][\"A\"]"
   ]
  },
  {
   "cell_type": "code",
   "execution_count": 24,
   "metadata": {},
   "outputs": [
    {
     "data": {
      "text/plain": [
       "'105'"
      ]
     },
     "execution_count": 24,
     "metadata": {},
     "output_type": "execute_result"
    }
   ],
   "source": [
    "coso[\"eqno\"]"
   ]
  },
  {
   "cell_type": "code",
   "execution_count": 7,
   "metadata": {},
   "outputs": [
    {
     "name": "stdout",
     "output_type": "stream",
     "text": [
      "<Element 'LibraryIndex' at 0x7fcc645fe890>\n",
      "<Element 'CompoundID' at 0x7fcc645fe480>\n",
      "<Element 'LiquidDensity' at 0x7fcc645ff600>\n"
     ]
    }
   ],
   "source": [
    "for cosas in DICCIONARIO:\n",
    "    print(substance[cosas])"
   ]
  }
 ],
 "metadata": {
  "kernelspec": {
   "display_name": "Python 3",
   "language": "python",
   "name": "python3"
  },
  "language_info": {
   "codemirror_mode": {
    "name": "ipython",
    "version": 3
   },
   "file_extension": ".py",
   "mimetype": "text/x-python",
   "name": "python",
   "nbconvert_exporter": "python",
   "pygments_lexer": "ipython3",
   "version": "3.10.6"
  },
  "orig_nbformat": 4
 },
 "nbformat": 4,
 "nbformat_minor": 2
}
